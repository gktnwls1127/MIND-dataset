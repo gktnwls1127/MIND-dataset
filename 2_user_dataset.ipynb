{
 "cells": [
  {
   "cell_type": "code",
   "execution_count": 1,
   "id": "2658fdb9",
   "metadata": {},
   "outputs": [],
   "source": [
    "import pandas as pd\n",
    "import random\n",
    "from tqdm import tqdm\n",
    "from collections import defaultdict\n",
    "\n",
    "# 데이터 불러오기\n",
    "BEHAVIOR_COLUMNS = ['ImpressionID', 'UserID', 'Time', 'History', 'Impressions']\n",
    "train = pd.read_csv('download/MINDsmall_train/behaviors.tsv', sep='\\t', names=BEHAVIOR_COLUMNS, header=0)\n",
    "dev = pd.read_csv('download/MINDsmall_dev/behaviors.tsv', sep='\\t', names=BEHAVIOR_COLUMNS, header=0)\n",
    "behaviors_df = pd.concat([train, dev], ignore_index=True)\n",
    "\n",
    "NEWS_COLUMNS = ['NewsID', 'PublishTime']\n",
    "news_df = pd.read_csv(\"news_publish_time.tsv\", sep='\\t', names=NEWS_COLUMNS, header=0)\n"
   ]
  },
  {
   "cell_type": "code",
   "execution_count": 2,
   "id": "4dabd178",
   "metadata": {},
   "outputs": [],
   "source": [
    "behaviors_df.to_csv('total_behaviors.tsv', sep='\\t', index=False)"
   ]
  },
  {
   "cell_type": "code",
   "execution_count": 3,
   "id": "369afdc6",
   "metadata": {},
   "outputs": [
    {
     "name": "stdout",
     "output_type": "stream",
     "text": [
      "impressions-1인 뉴스 개수:  347725\n"
     ]
    }
   ],
   "source": [
    "# impression에서 클릭한 뉴스 개수 확인\n",
    "\n",
    "click_news_count = 0  \n",
    "\n",
    "for impression_row in behaviors_df[\"Impressions\"]:\n",
    "    impression_list = impression_row.split()\n",
    "    \n",
    "    for impression in impression_list:\n",
    "        news_id, label = impression.split(\"-\")                           \n",
    "        label = int(label)\n",
    "        \n",
    "        if label == 1:\n",
    "            click_news_count += 1\n",
    "\n",
    "print('impressions-1인 뉴스 개수: ', click_news_count)"
   ]
  },
  {
   "cell_type": "code",
   "execution_count": 4,
   "id": "6c764b8e",
   "metadata": {},
   "outputs": [],
   "source": [
    "# user history 파일 생성\n",
    "\n",
    "user_history = {}\n",
    "\n",
    "for _, row in behaviors_df.iterrows():\n",
    "    user = row['UserID']\n",
    "    history = row['History']\n",
    "    user_history[user] = history\n",
    "\n",
    "history_df = pd.DataFrame(list(user_history.items()), columns=[\"UserID\", \"History\"])\n",
    "\n",
    "history_df.to_csv(\"user_history.tsv\", sep=\"\\t\", index=False)\n"
   ]
  },
  {
   "cell_type": "code",
   "execution_count": null,
   "id": "a7d88de7",
   "metadata": {},
   "outputs": [
    {
     "name": "stderr",
     "output_type": "stream",
     "text": [
      "100%|██████████| 230115/230115 [00:06<00:00, 35094.34it/s]\n"
     ]
    }
   ],
   "source": [
    "# 유저리스트 정리하기\n",
    "\n",
    "user_list= []\n",
    "\n",
    "for _, row in tqdm(behaviors_df.iterrows(), total=len(behaviors_df)):\n",
    "    user = row['UserID']\n",
    "    time = row['Time']\n",
    "    impressions = str(row['Impressions']).split()\n",
    "    imp_list = []\n",
    "    \n",
    "    for imp in impressions:\n",
    "        news_id, label = imp.split('-')\n",
    "        if int(label) == 1:\n",
    "            imp_list.append(imp)\n",
    "\n",
    "    user_list.append({\n",
    "        'UserID':user,\n",
    "        'Time': time,\n",
    "        'ClickNews': imp_list\n",
    "    })\n"
   ]
  },
  {
   "cell_type": "code",
   "execution_count": 7,
   "id": "c293aa71",
   "metadata": {},
   "outputs": [],
   "source": [
    "# 클릭한 유저와 뉴스들 수집 뉴스: 유저 아이디s\n",
    "\n",
    "all_user_ids = set(user['UserID'] for user in user_list)\n",
    "\n",
    "# 유저 ID -> 클릭한 뉴스 ID Set + Time 저장\n",
    "user_click_info = {}\n",
    "# 뉴스 ID -> 클릭한 유저 ID Set\n",
    "news_click_users = defaultdict(set)\n",
    "\n",
    "# 사전 정보 구성\n",
    "for user in user_list:\n",
    "    uid = user['UserID']\n",
    "    click_news_ids = set(imp.split('-')[0] for imp in user['ClickNews'])\n",
    "    user_click_info[uid] = {\n",
    "        'click_set': click_news_ids,\n",
    "        'time': user['Time']\n",
    "    }\n",
    "    for nid in click_news_ids:\n",
    "        news_click_users[nid].add(uid)"
   ]
  },
  {
   "cell_type": "code",
   "execution_count": 8,
   "id": "95d0dd57",
   "metadata": {},
   "outputs": [
    {
     "name": "stderr",
     "output_type": "stream",
     "text": [
      "Generating Impressions: 100%|██████████| 22771/22771 [01:22<00:00, 277.69it/s]\n"
     ]
    }
   ],
   "source": [
    "# 사용자 중복없는 뉴스 리스트\n",
    "\n",
    "news_list = []\n",
    "impression_id = 1\n",
    "\n",
    "for _, row in tqdm(news_df.iterrows(), total=len(news_df), desc=\"Generating Impressions\"):\n",
    "    news_id = row['NewsID']\n",
    "    clicked_user_ids = news_click_users.get(news_id, set())\n",
    "    other_user_ids = list(all_user_ids - clicked_user_ids)\n",
    "\n",
    "    for uid in clicked_user_ids:\n",
    "        clicked_user = f\"{uid}-1\"\n",
    "        clicked_time = user_click_info[uid]['time']\n",
    "\n",
    "        sampled_user_ids = random.sample(other_user_ids, min(20, len(other_user_ids)))\n",
    "        sampled_non_clicks = [f\"{nid}-0\" for nid in sampled_user_ids]\n",
    "\n",
    "        impression_users = [clicked_user] + sampled_non_clicks\n",
    "\n",
    "        news_list.append({\n",
    "            'ImpressionID': impression_id,\n",
    "            'NewsID': news_id,\n",
    "            'Time': clicked_time,\n",
    "            'ImpressionUsers': impression_users\n",
    "        })\n",
    "\n",
    "        impression_id += 1"
   ]
  },
  {
   "cell_type": "code",
   "execution_count": 9,
   "id": "4a3db85b",
   "metadata": {},
   "outputs": [],
   "source": [
    "df = pd.DataFrame(news_list)\n",
    "\n",
    "df['ImpressionUsers'] = df['ImpressionUsers'].apply(lambda x: ' '.join(x))\n",
    "df.to_csv('user_dataset.tsv', sep='\\t', index=False)"
   ]
  },
  {
   "cell_type": "code",
   "execution_count": 10,
   "id": "4e1fea56",
   "metadata": {},
   "outputs": [
    {
     "name": "stderr",
     "output_type": "stream",
     "text": [
      "Generating Overlap Impressions: 100%|██████████| 22771/22771 [01:22<00:00, 276.36it/s]\n"
     ]
    }
   ],
   "source": [
    "import random\n",
    "from collections import defaultdict\n",
    "from tqdm import tqdm\n",
    "import pandas as pd\n",
    "\n",
    "# 전체 유저 집합\n",
    "all_user_ids = set(user['UserID'] for user in user_list)\n",
    "\n",
    "# 뉴스 ID -> 클릭한 (UserID, Time) 리스트 저장 (중복 클릭 포함)\n",
    "news_click_users = defaultdict(list)\n",
    "\n",
    "# 사전 정보 구성\n",
    "for user in user_list:\n",
    "    uid = user['UserID']\n",
    "    time = user['Time']\n",
    "    for imp in user['ClickNews']:\n",
    "        if '-' in imp:  # 안전하게 split\n",
    "            news_id, label = imp.split('-')\n",
    "            if label == '1':\n",
    "                news_click_users[news_id].append((uid, time))\n",
    "\n",
    "# 중복 포함 Impression 리스트\n",
    "overlap_news_list = []\n",
    "\n",
    "# 고유하게 증가하는 ImpressionID\n",
    "impression_id = 1\n",
    "\n",
    "# tqdm 진행 표시와 함께 뉴스 순회\n",
    "for _, row in tqdm(news_df.iterrows(), total=len(news_df), desc=\"Generating Overlap Impressions\"):\n",
    "    news_id = row['NewsID']\n",
    "    clicked_user_info = news_click_users.get(news_id, [])\n",
    "\n",
    "    # 클릭한 유저 ID들 추출 (set으로 중복 제거하여 negative sample 추출용)\n",
    "    clicked_user_ids = set(uid for uid, _ in clicked_user_info)\n",
    "    other_user_ids = list(all_user_ids - clicked_user_ids)\n",
    "\n",
    "    for uid, clicked_time in clicked_user_info:\n",
    "        clicked_user = f\"{uid}-1\"\n",
    "\n",
    "        sampled_user_ids = random.sample(other_user_ids, min(20, len(other_user_ids)))\n",
    "        sampled_non_clicks = [f\"{nid}-0\" for nid in sampled_user_ids]\n",
    "\n",
    "        impression_users = [clicked_user] + sampled_non_clicks\n",
    "\n",
    "        overlap_news_list.append({\n",
    "            'ImpressionID': impression_id,\n",
    "            'NewsID': news_id,\n",
    "            'Time': clicked_time,\n",
    "            'ImpressionUsers': impression_users\n",
    "        })\n",
    "\n",
    "        impression_id += 1\n",
    "\n",
    "# DataFrame으로 변환 및 TSV 저장\n",
    "df = pd.DataFrame(overlap_news_list)\n",
    "df['ImpressionUsers'] = df['ImpressionUsers'].apply(lambda x: ' '.join(x))\n",
    "df.to_csv('overlap_user_dataset.tsv', sep='\\t', index=False)\n"
   ]
  },
  {
   "cell_type": "code",
   "execution_count": 17,
   "id": "3f5c0463",
   "metadata": {},
   "outputs": [
    {
     "name": "stdout",
     "output_type": "stream",
     "text": [
      "📰 뉴스 N55237 전체 행 수: 1516\n",
      "✅ 클릭 유저 수: 1516\n",
      "🟦 미클릭 유저 수: 25836\n",
      "✅ 중복 없음\n"
     ]
    }
   ],
   "source": [
    "import pandas as pd\n",
    "\n",
    "# TSV 파일 로딩\n",
    "USER_COLUMNS = ['ImpressionID', 'NewsID', 'Time', 'ImpressionUsers']\n",
    "user_data_df = pd.read_csv(\"user_dataset.tsv\", sep='\\t', names=USER_COLUMNS, header=0)\n",
    "\n",
    "# 분석할 뉴스 ID\n",
    "target_news_id = 'N55237'\n",
    "\n",
    "# 해당 뉴스ID에 해당하는 모든 행 필터링\n",
    "target_rows = user_data_df[user_data_df['NewsID'] == target_news_id]\n",
    "\n",
    "if target_rows.empty:\n",
    "    print(f\"❌ 뉴스 {target_news_id} 없음\")\n",
    "else:\n",
    "    clicked_users = set()\n",
    "    non_clicked_users = set()\n",
    "\n",
    "    # 여러 행의 ImpressionUsers 처리\n",
    "    for users_str in target_rows['ImpressionUsers']:\n",
    "        for u in str(users_str).split():\n",
    "            if '-' not in u:\n",
    "                continue\n",
    "            uid, label = u.rsplit('-', 1)\n",
    "            if label == '1':\n",
    "                clicked_users.add(uid)\n",
    "            elif label == '0':\n",
    "                non_clicked_users.add(uid)\n",
    "\n",
    "    # 교집합 확인\n",
    "    overlap = clicked_users & non_clicked_users\n",
    "\n",
    "    print(f\"📰 뉴스 {target_news_id} 전체 행 수: {len(target_rows)}\")\n",
    "    print(f\"✅ 클릭 유저 수: {len(clicked_users)}\")\n",
    "    print(f\"🟦 미클릭 유저 수: {len(non_clicked_users)}\")\n",
    "\n",
    "    if overlap:\n",
    "        print(f\"⚠️ 중복 유저 있음 ({len(overlap)}명): {sorted(overlap)}\")\n",
    "    else:\n",
    "        print(\"✅ 중복 없음\")\n"
   ]
  },
  {
   "cell_type": "code",
   "execution_count": 19,
   "id": "e7067083",
   "metadata": {},
   "outputs": [
    {
     "name": "stderr",
     "output_type": "stream",
     "text": [
      "Checking NewsID Overlaps: 100%|██████████| 22771/22771 [04:06<00:00, 92.20it/s]"
     ]
    },
    {
     "name": "stdout",
     "output_type": "stream",
     "text": [
      "\n",
      "✅ 모든 뉴스에서 중복 없음\n"
     ]
    },
    {
     "name": "stderr",
     "output_type": "stream",
     "text": [
      "\n"
     ]
    }
   ],
   "source": [
    "import pandas as pd\n",
    "from tqdm import tqdm  # <- 진행 바 표시용\n",
    "\n",
    "# 파일 로딩\n",
    "USER_COLUMNS = ['ImpressionID', 'NewsID', 'Time', 'ImpressionUsers']\n",
    "NEWS_COLUMNS = ['NewsID', 'PublishTime']\n",
    "\n",
    "user_data_df = pd.read_csv(\"user_dataset.tsv\", sep='\\t', names=USER_COLUMNS, header=0)\n",
    "news_df = pd.read_csv(\"news_publish_time.tsv\", sep='\\t', names=NEWS_COLUMNS, header=0)\n",
    "\n",
    "# 중복 결과 저장\n",
    "overlap_results = []\n",
    "\n",
    "# tqdm으로 뉴스ID별 진행 표시\n",
    "for news_id in tqdm(news_df['NewsID'].unique(), desc=\"Checking NewsID Overlaps\"):\n",
    "    target_rows = user_data_df[user_data_df['NewsID'] == news_id]\n",
    "\n",
    "    if target_rows.empty:\n",
    "        continue\n",
    "\n",
    "    clicked_users = set()\n",
    "    non_clicked_users = set()\n",
    "\n",
    "    for users_str in target_rows['ImpressionUsers']:\n",
    "        for u in str(users_str).split():\n",
    "            if '-' not in u: continue\n",
    "            uid, label = u.rsplit('-', 1)\n",
    "            if label == '1':\n",
    "                clicked_users.add(uid)\n",
    "            elif label == '0':\n",
    "                non_clicked_users.add(uid)\n",
    "\n",
    "    overlap = clicked_users & non_clicked_users\n",
    "    if overlap:\n",
    "        overlap_results.append({\n",
    "            'NewsID': news_id,\n",
    "            'ClickedUsers': len(clicked_users),\n",
    "            'NonClickedUsers': len(non_clicked_users),\n",
    "            'OverlapCount': len(overlap),\n",
    "            'OverlapUsers': sorted(overlap)\n",
    "        })\n",
    "\n",
    "# 결과 출력\n",
    "if overlap_results:\n",
    "    print(f\"\\n⚠️ 중복 유저가 있는 뉴스 개수: {len(overlap_results)}\")\n",
    "    for result in overlap_results:\n",
    "        print(f\"News {result['NewsID']} - 중복 {result['OverlapCount']}명\")\n",
    "else:\n",
    "    print(\"\\n✅ 모든 뉴스에서 중복 없음\")\n"
   ]
  },
  {
   "cell_type": "code",
   "execution_count": 11,
   "id": "16229658",
   "metadata": {},
   "outputs": [
    {
     "data": {
      "text/plain": [
       "156964"
      ]
     },
     "execution_count": 11,
     "metadata": {},
     "output_type": "execute_result"
    }
   ],
   "source": [
    "345187\n",
    "73152\n",
    "156964"
   ]
  }
 ],
 "metadata": {
  "kernelspec": {
   "display_name": "base",
   "language": "python",
   "name": "python3"
  },
  "language_info": {
   "codemirror_mode": {
    "name": "ipython",
    "version": 3
   },
   "file_extension": ".py",
   "mimetype": "text/x-python",
   "name": "python",
   "nbconvert_exporter": "python",
   "pygments_lexer": "ipython3",
   "version": "3.12.7"
  }
 },
 "nbformat": 4,
 "nbformat_minor": 5
}
