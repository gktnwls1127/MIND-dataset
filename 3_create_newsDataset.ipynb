{
 "cells": [
  {
   "cell_type": "code",
   "execution_count": null,
   "id": "d3db98ba",
   "metadata": {},
   "outputs": [
    {
     "name": "stdout",
     "output_type": "stream",
     "text": [
      "고유 클릭 뉴스 개수: 9100\n",
      "0    N55689\n",
      "1    N17059\n",
      "2    N23814\n",
      "3    N49685\n",
      "4     N8400\n",
      "Name: NewsID, dtype: object\n",
      "\n",
      "유저-뉴스 클릭 고유 쌍 개수: 345188\n",
      "   UserID  NewsID\n",
      "0  U13740  N55689\n",
      "1  U91836  N17059\n",
      "2  U73700  N23814\n",
      "3  U34670  N49685\n",
      "4   U8125   N8400\n"
     ]
    }
   ],
   "source": [
    "import pandas as pd\n",
    "\n",
    "BEHAVIOR_COLUMNS = ['ImpressionID', 'UserID', 'Time', 'History', 'Impressions']\n",
    "\n",
    "# 헤더 없음 → header=None 이 안전\n",
    "train = pd.read_csv('download/MINDsmall_train/behaviors.tsv', sep='\\t',\n",
    "                    names=BEHAVIOR_COLUMNS, header=None)\n",
    "dev   = pd.read_csv('download/MINDsmall_dev/behaviors.tsv', sep='\\t',\n",
    "                    names=BEHAVIOR_COLUMNS, header=None)\n",
    "\n",
    "behaviors_df = pd.concat([train, dev], ignore_index=True)\n",
    "\n",
    "# 1) 공백 분리 후 explode\n",
    "ex = (behaviors_df[['UserID', 'Impressions']]\n",
    "      .assign(Impressions=lambda d: d['Impressions'].fillna('').astype(str))\n",
    "      .assign(token=lambda d: d['Impressions'].str.split())\n",
    "      .explode('token')\n",
    "      .query(\"token != ''\"))\n",
    "\n",
    "# 2) \"newsId-label\" 안전 파싱 (뒤에서 1번만 split)\n",
    "parsed = ex['token'].str.rsplit('-', n=1, expand=True)\n",
    "ex = ex.assign(NewsID=parsed[0].str.strip(),\n",
    "               Label=parsed[1].str.strip()).drop(columns=['token', 'Impressions'])\n",
    "\n",
    "# 3) 클릭만 (-1) 필터\n",
    "clicked = ex.query(\"Label == '1'\")\n",
    "\n",
    "# 전체에서 '클릭된 뉴스ID'만, 중복 제거\n",
    "clicked_news_unique = clicked['NewsID'].drop_duplicates().reset_index(drop=True)\n",
    "\n",
    "print(\"고유 클릭 뉴스 개수:\", len(clicked_news_unique))\n",
    "print(clicked_news_unique.head())\n"
   ]
  }
 ],
 "metadata": {
  "kernelspec": {
   "display_name": "base",
   "language": "python",
   "name": "python3"
  },
  "language_info": {
   "codemirror_mode": {
    "name": "ipython",
    "version": 3
   },
   "file_extension": ".py",
   "mimetype": "text/x-python",
   "name": "python",
   "nbconvert_exporter": "python",
   "pygments_lexer": "ipython3",
   "version": "3.12.7"
  }
 },
 "nbformat": 4,
 "nbformat_minor": 5
}
